{
 "cells": [
  {
   "cell_type": "code",
   "execution_count": 1,
   "id": "1af75df3",
   "metadata": {},
   "outputs": [],
   "source": [
    "colours = [\"green\", \"yellow\", \"blue\", \"green\", \"red\", \"green\", \"white\", \"green\"]"
   ]
  },
  {
   "cell_type": "code",
   "execution_count": 2,
   "id": "27051db4",
   "metadata": {},
   "outputs": [
    {
     "name": "stdout",
     "output_type": "stream",
     "text": [
      "['green', 'yellow', 'blue', 'green', 'red', 'green', 'white', 'green']\n"
     ]
    }
   ],
   "source": [
    "print(colours)"
   ]
  },
  {
   "cell_type": "code",
   "execution_count": 3,
   "id": "7bc18636",
   "metadata": {},
   "outputs": [
    {
     "data": {
      "text/plain": [
       "3"
      ]
     },
     "execution_count": 3,
     "metadata": {},
     "output_type": "execute_result"
    }
   ],
   "source": [
    "colours.index(\"green\", 2)"
   ]
  },
  {
   "cell_type": "code",
   "execution_count": 9,
   "id": "1504f8f8",
   "metadata": {},
   "outputs": [
    {
     "data": {
      "text/plain": [
       "5"
      ]
     },
     "execution_count": 9,
     "metadata": {},
     "output_type": "execute_result"
    }
   ],
   "source": [
    "colours.index(\"green\", 4)"
   ]
  },
  {
   "cell_type": "code",
   "execution_count": null,
   "id": "66c8423a",
   "metadata": {},
   "outputs": [],
   "source": []
  }
 ],
 "metadata": {
  "kernelspec": {
   "display_name": "Python 3 (ipykernel)",
   "language": "python",
   "name": "python3"
  },
  "language_info": {
   "codemirror_mode": {
    "name": "ipython",
    "version": 3
   },
   "file_extension": ".py",
   "mimetype": "text/x-python",
   "name": "python",
   "nbconvert_exporter": "python",
   "pygments_lexer": "ipython3",
   "version": "3.10.6"
  }
 },
 "nbformat": 4,
 "nbformat_minor": 5
}
