{
 "cells": [
  {
   "cell_type": "code",
   "execution_count": 7,
   "id": "64fa82f6",
   "metadata": {},
   "outputs": [],
   "source": [
    "john = 30\n",
    "joan = 45\n",
    "joshua = 25\n",
    "ivy = 32\n"
   ]
  },
  {
   "cell_type": "code",
   "execution_count": 11,
   "id": "5f6dce24",
   "metadata": {},
   "outputs": [
    {
     "name": "stdout",
     "output_type": "stream",
     "text": [
      "30\n",
      "45\n",
      "25\n",
      "32\n"
     ]
    }
   ],
   "source": [
    "print(john)\n",
    "print(joan)\n",
    "print(joshua)\n",
    "print(ivy)"
   ]
  },
  {
   "cell_type": "code",
   "execution_count": 12,
   "id": "9478bb80",
   "metadata": {},
   "outputs": [
    {
     "name": "stdout",
     "output_type": "stream",
     "text": [
      "old\n",
      "this is part of the block\n"
     ]
    }
   ],
   "source": [
    "if john < 25:\n",
    "    print(\"young\")\n",
    "if john == 25:\n",
    "    print(\"slightly young\")\n",
    "else:\n",
    "    print(\"old\")\n",
    "print(\"this is part of the block\")"
   ]
  },
  {
   "cell_type": "code",
   "execution_count": null,
   "id": "a496749f",
   "metadata": {},
   "outputs": [],
   "source": []
  }
 ],
 "metadata": {
  "kernelspec": {
   "display_name": "Python 3 (ipykernel)",
   "language": "python",
   "name": "python3"
  },
  "language_info": {
   "codemirror_mode": {
    "name": "ipython",
    "version": 3
   },
   "file_extension": ".py",
   "mimetype": "text/x-python",
   "name": "python",
   "nbconvert_exporter": "python",
   "pygments_lexer": "ipython3",
   "version": "3.10.6"
  }
 },
 "nbformat": 4,
 "nbformat_minor": 5
}
