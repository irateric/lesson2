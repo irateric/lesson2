{
 "cells": [
  {
   "cell_type": "code",
   "execution_count": 7,
   "id": "5bd9eba0",
   "metadata": {},
   "outputs": [],
   "source": [
    "john = 30\n",
    "joan = 45\n",
    "joshua = 25\n",
    "ivy = 32\n"
   ]
  },
  {
   "cell_type": "code",
   "execution_count": 8,
   "id": "86790412",
   "metadata": {},
   "outputs": [
    {
     "name": "stdout",
     "output_type": "stream",
     "text": [
      "30\n",
      "45\n",
      "25\n",
      "32\n"
     ]
    }
   ],
   "source": [
    "print(john)\n",
    "print(joan)\n",
    "print(joshua)\n",
    "print(ivy)"
   ]
  },
  {
   "cell_type": "code",
   "execution_count": 10,
   "id": "81e1e9c7",
   "metadata": {},
   "outputs": [
    {
     "ename": "SyntaxError",
     "evalue": "invalid syntax. Perhaps you forgot a comma? (154034982.py, line 4)",
     "output_type": "error",
     "traceback": [
      "\u001b[1;36m  Input \u001b[1;32mIn [10]\u001b[1;36m\u001b[0m\n\u001b[1;33m    print(slightly young)\u001b[0m\n\u001b[1;37m          ^\u001b[0m\n\u001b[1;31mSyntaxError\u001b[0m\u001b[1;31m:\u001b[0m invalid syntax. Perhaps you forgot a comma?\n"
     ]
    }
   ],
   "source": [
    "if john < 25:\n",
    "    print(\"young\")\n",
    "if john == 25:\n",
    "    print(\"slightly young)\n",
    "else:\n",
    "    print(old)\n",
    "print(this is part of the block)"
   ]
  },
  {
   "cell_type": "code",
   "execution_count": null,
   "id": "deda822d",
   "metadata": {},
   "outputs": [],
   "source": []
  }
 ],
 "metadata": {
  "kernelspec": {
   "display_name": "Python 3 (ipykernel)",
   "language": "python",
   "name": "python3"
  },
  "language_info": {
   "codemirror_mode": {
    "name": "ipython",
    "version": 3
   },
   "file_extension": ".py",
   "mimetype": "text/x-python",
   "name": "python",
   "nbconvert_exporter": "python",
   "pygments_lexer": "ipython3",
   "version": "3.10.6"
  }
 },
 "nbformat": 4,
 "nbformat_minor": 5
}
